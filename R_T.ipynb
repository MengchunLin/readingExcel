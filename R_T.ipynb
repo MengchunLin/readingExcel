{
 "cells": [
  {
   "cell_type": "code",
   "execution_count": 5,
   "metadata": {},
   "outputs": [],
   "source": [
    "import numpy as np\n",
    "import pandas as pd\n",
    "import os\n",
    "import shutil\n",
    "import openpyxl\n",
    "import xlwings as xw\n",
    "from openpyxl import load_workbook,Workbook\n",
    "import tkinter as tk\n",
    "from tkinter import filedialog"
   ]
  },
  {
   "cell_type": "code",
   "execution_count": 15,
   "metadata": {},
   "outputs": [
    {
     "data": {
      "text/plain": [
       "4"
      ]
     },
     "execution_count": 15,
     "metadata": {},
     "output_type": "execute_result"
    }
   ],
   "source": [
    "#新增一個txt檔\n",
    "f=open('data.txt', mode='w')\n",
    "\n",
    "# 連接到活動的Excel應用程序\n",
    "app = xw.App()\n",
    "\n",
    "# 打開工作簿\n",
    "#wb = app.books.open('05NT-LZ001.xls')\n",
    "\n",
    "#選取檔案\n",
    "root = tk.Tk()\n",
    "root.title('Choose a file')\n",
    "root.geometry('300x200')\n",
    "\n",
    "def show():\n",
    "    file_path = filedialog.askopenfilename()   # 選擇檔案後回傳檔案路徑與名稱\n",
    "    print(file_path)                           # 印出路徑\n",
    "    wb = app.books.open(file_path)\n",
    "\n",
    "# Button 設定 command 參數，點擊按鈕時執行 show 函式\n",
    "btn = tk.Button(root,\n",
    "                text='開啟檔案',\n",
    "                font=('Arial',20,'bold'),\n",
    "                command=show\n",
    "              )\n",
    "btn.pack()\n",
    "\n",
    "root.mainloop()\n",
    "\n",
    "#打開檔案\n",
    "\n",
    "\n",
    "#不匯出點位資料\n",
    "f.write('0''\\n')\n",
    "f.write('0'' ''0''\\n')\n"
   ]
  },
  {
   "cell_type": "code",
   "execution_count": null,
   "metadata": {},
   "outputs": [],
   "source": [
    "def list_files_in_folder(folder_path):\n",
    "    record_list = []\n",
    "    for root, dirs, files in os.walk(folder_path):\n",
    "        for file in files:            \n",
    "            file_path = os.path.join(root, file)\n",
    "            record_list.append(file_path)\n",
    "            # print(file_path)\n",
    "    return record_list\n",
    "\n",
    "folder_path = \"C:/Geo2010/TEMP/335065091060815B\"\n",
    "list_files_in_folder(folder_path)"
   ]
  },
  {
   "cell_type": "code",
   "execution_count": null,
   "metadata": {},
   "outputs": [],
   "source": [
    "# 鑽孔編號\n",
    "sheet = wb.sheets[1]\n",
    "f.write(sheet.range('C1').value+'\\n')\n",
    "\n",
    "#鑽孔 E / N 座標\t\n",
    "f.write(sheet.range('C6').value+'\\n')\n",
    "f.write(sheet.range('C7').value+'\\n')\n",
    "\n",
    "#鑽孔孔頂高程 EL+\n",
    "f.write(sheet.range('C4').value+'\\n')\n",
    "\n",
    "#鑽孔地下水位 GL- (若地下水位在甚深處，則填 999，地下水位將不繪出)\n"
   ]
  },
  {
   "cell_type": "code",
   "execution_count": 17,
   "metadata": {},
   "outputs": [],
   "source": [
    "import tkinter as tk\n",
    "from tkinter import filedialog\n",
    "import xlwings as xw\n",
    "\n",
    "def show():\n",
    "    file_path = filedialog.askopenfilename()   # 選擇檔案後回傳檔案路徑與名稱\n",
    "    # print(file_path)                           # 印出路徑\n",
    "    return file_path\n",
    "\n",
    "def open_excel():\n",
    "    # 連接到活動的 Excel 應用程序\n",
    "    app = xw.App()\n",
    "\n",
    "    # 打開工作簿\n",
    "    wb = app.books.open(btn.file_path)  # Use the file path stored in btn\n",
    "\n",
    "    # Continue with your code using 'wb' as needed\n",
    "\n",
    "    # 关闭工作簿\n",
    "    wb.close()\n",
    "\n",
    "    # 关闭 Excel 应用程序\n",
    "    app.quit()\n",
    "\n",
    "# Create a Tkinter root window\n",
    "root = tk.Tk()\n",
    "\n",
    "# Button 設定 command 參數，點擊按鈕時執行 show 函式\n",
    "btn = tk.Button(root,\n",
    "                text='開啟檔案',\n",
    "                font=('Arial', 20, 'bold'),\n",
    "                command=show\n",
    "              )\n",
    "btn.pack()\n",
    "\n",
    "# Button 設定 command 參數，點擊按鈕時執行 open_excel 函式\n",
    "open_btn = tk.Button(root,\n",
    "                     text='打開 Excel 檔案',\n",
    "                     font=('Arial', 20, 'bold'),\n",
    "                     command=open_excel\n",
    "                    )\n",
    "open_btn.pack()\n",
    "\n",
    "# Run the Tkinter event loop\n",
    "root.mainloop()\n"
   ]
  }
 ],
 "metadata": {
  "kernelspec": {
   "display_name": "venv",
   "language": "python",
   "name": "python3"
  },
  "language_info": {
   "codemirror_mode": {
    "name": "ipython",
    "version": 3
   },
   "file_extension": ".py",
   "mimetype": "text/x-python",
   "name": "python",
   "nbconvert_exporter": "python",
   "pygments_lexer": "ipython3",
   "version": "3.11.7"
  }
 },
 "nbformat": 4,
 "nbformat_minor": 2
}
